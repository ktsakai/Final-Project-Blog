{
 "cells": [
  {
   "cell_type": "markdown",
   "id": "e420f3a6",
   "metadata": {},
   "source": [
    "---\n",
    "title: \"Final Project Related Assignment\"\n",
    "description: \"Draft of Final Project\"\n",
    "author: \"Kaelyn Sakai\"\n",
    "date: \"07/30/2023\" \n",
    "date-modified: \"08/03/2023\"\n",
    "---"
   ]
  },
  {
   "cell_type": "markdown",
   "id": "0c67e28d",
   "metadata": {},
   "source": [
    "Kaelyn Sakai •\n",
    "July 2023\n",
    "\n",
    "# Visualization and Analysis of Top Spotify Songs"
   ]
  },
  {
   "cell_type": "markdown",
   "id": "64e71280",
   "metadata": {},
   "source": [
    "## Project Introduction"
   ]
  },
  {
   "cell_type": "markdown",
   "id": "112ecb41",
   "metadata": {},
   "source": [
    "The dataset that I plan on investigating further is the __[Spotify Top Songs Data](https://www.kaggle.com/datasets/leonardopena/top-spotify-songs-from-20102019-by-year?resource=download)__ from Kaggle. The data contains information about a variety of Spotify top songs. I wanted to analyze this, because I have always been interested in music trends and music in general. Music throughout history is consistently changing, and exploring this dataset can help to further understand the types of songs that have been popular recently. The main research question I will be addressing is, \"**Are there visible trends and themes in the titles and features of top songs and how do these trends contribute to the past and future popularity of specific types of songs?\"**. The study will focus on data about the top songs on the Spotify charts, investigating a variety of ratings such as danceability, valence, energy that may influence the popularity of a song. Understanding how the variables relate to each other can lead to further understanding of what contributes towards a popular song. Looking at the data can also determine if there truly are patterns seen in music trends, or if popularity is unrelated to any of the song variables. By exploring these datasets, I hope to investigate questions that relate to the longevity of top Spotify songs. With the emergence of music trends through social media and new popular genres, analyzing recent past trends can help to further understand music popularity. \n",
    "\n",
    "   I am specifically interested in studying music for this analysis, because I am constantly listening to music and consuming music related media. While I have not completed any research projects about music in the past, I am excited to learn more about the subject. "
   ]
  },
  {
   "cell_type": "markdown",
   "id": "97318c23",
   "metadata": {},
   "source": [
    "## Methods: Data Exploration and Analysis"
   ]
  },
  {
   "cell_type": "markdown",
   "id": "a748d4a1",
   "metadata": {},
   "source": [
    "This data contains some of the top songs between the years 2010 through 2019. This is a brief overview of the data and what each variable represents.\n",
    "\n",
    "|**Variable**|**Description**|\n",
    "|:-----------:|:-----------|\n",
    "|top genre|Genre of the track|\n",
    "|year|The year the song appeared on Spotify|\n",
    "|bpm|Beats per minute of the song|\n",
    "|nrgy|Energy: The energy rating of the song - the higher the nrgy score, the more energetic the song is|\n",
    "|dnce|Dance: The danceability rating of the song - the higher the dnce score, the easier it is to dance to|\n",
    "|dB|Decibels: The overall loudness - the higher the dB, the louder the song|\n",
    "|live|The higher the value, the more likely the song is a live recording|\n",
    "|val|Valence: The mood of the song - the higher the valence, the more cheerful the song is|\n",
    "|dur|Duration: Length of the song in seconds|\n",
    "|acous|Acoustics: The higher the acoustic value, the more acoustic the song is|\n",
    "|spch|Speechiness: The higher the value, the song contains more spoken words|\n",
    "|pop|Popularity: Measures how popular the song was|"
   ]
  },
  {
   "cell_type": "code",
   "execution_count": 5,
   "id": "e9f49802",
   "metadata": {},
   "outputs": [],
   "source": [
    "import matplotlib.pyplot as plt"
   ]
  },
  {
   "cell_type": "code",
   "execution_count": 4,
   "id": "c7138af5",
   "metadata": {},
   "outputs": [],
   "source": [
    "import pandas as pd\n",
    "df = pd.read_csv('spotify-Copy1.csv',encoding='latin-1')"
   ]
  },
  {
   "cell_type": "markdown",
   "id": "be2a72fd",
   "metadata": {},
   "source": [
    "<h3 align=\"center\">Overall Variable Descriptions for All Data (Table 1 Below)</h3> "
   ]
  },
  {
   "cell_type": "code",
   "execution_count": 4,
   "id": "217a7e67",
   "metadata": {},
   "outputs": [
    {
     "data": {
      "text/html": [
       "<div>\n",
       "<style scoped>\n",
       "    .dataframe tbody tr th:only-of-type {\n",
       "        vertical-align: middle;\n",
       "    }\n",
       "\n",
       "    .dataframe tbody tr th {\n",
       "        vertical-align: top;\n",
       "    }\n",
       "\n",
       "    .dataframe thead th {\n",
       "        text-align: right;\n",
       "    }\n",
       "</style>\n",
       "<table border=\"1\" class=\"dataframe\">\n",
       "  <thead>\n",
       "    <tr style=\"text-align: right;\">\n",
       "      <th></th>\n",
       "      <th>Unnamed: 0</th>\n",
       "      <th>year</th>\n",
       "      <th>bpm</th>\n",
       "      <th>nrgy</th>\n",
       "      <th>dnce</th>\n",
       "      <th>dB</th>\n",
       "      <th>live</th>\n",
       "      <th>val</th>\n",
       "      <th>dur</th>\n",
       "      <th>acous</th>\n",
       "      <th>spch</th>\n",
       "      <th>pop</th>\n",
       "    </tr>\n",
       "  </thead>\n",
       "  <tbody>\n",
       "    <tr>\n",
       "      <th>count</th>\n",
       "      <td>603.000000</td>\n",
       "      <td>603.000000</td>\n",
       "      <td>603.000000</td>\n",
       "      <td>603.000000</td>\n",
       "      <td>603.000000</td>\n",
       "      <td>603.000000</td>\n",
       "      <td>603.000000</td>\n",
       "      <td>603.000000</td>\n",
       "      <td>603.000000</td>\n",
       "      <td>603.000000</td>\n",
       "      <td>603.000000</td>\n",
       "      <td>603.000000</td>\n",
       "    </tr>\n",
       "    <tr>\n",
       "      <th>mean</th>\n",
       "      <td>302.000000</td>\n",
       "      <td>2014.592040</td>\n",
       "      <td>118.545605</td>\n",
       "      <td>70.504146</td>\n",
       "      <td>64.379768</td>\n",
       "      <td>-5.578773</td>\n",
       "      <td>17.774461</td>\n",
       "      <td>52.225539</td>\n",
       "      <td>224.674959</td>\n",
       "      <td>14.326700</td>\n",
       "      <td>8.358209</td>\n",
       "      <td>66.520730</td>\n",
       "    </tr>\n",
       "    <tr>\n",
       "      <th>std</th>\n",
       "      <td>174.215384</td>\n",
       "      <td>2.607057</td>\n",
       "      <td>24.795358</td>\n",
       "      <td>16.310664</td>\n",
       "      <td>13.378718</td>\n",
       "      <td>2.798020</td>\n",
       "      <td>13.102543</td>\n",
       "      <td>22.513020</td>\n",
       "      <td>34.130059</td>\n",
       "      <td>20.766165</td>\n",
       "      <td>7.483162</td>\n",
       "      <td>14.517746</td>\n",
       "    </tr>\n",
       "    <tr>\n",
       "      <th>min</th>\n",
       "      <td>1.000000</td>\n",
       "      <td>2010.000000</td>\n",
       "      <td>0.000000</td>\n",
       "      <td>0.000000</td>\n",
       "      <td>0.000000</td>\n",
       "      <td>-60.000000</td>\n",
       "      <td>0.000000</td>\n",
       "      <td>0.000000</td>\n",
       "      <td>134.000000</td>\n",
       "      <td>0.000000</td>\n",
       "      <td>0.000000</td>\n",
       "      <td>0.000000</td>\n",
       "    </tr>\n",
       "    <tr>\n",
       "      <th>25%</th>\n",
       "      <td>151.500000</td>\n",
       "      <td>2013.000000</td>\n",
       "      <td>100.000000</td>\n",
       "      <td>61.000000</td>\n",
       "      <td>57.000000</td>\n",
       "      <td>-6.000000</td>\n",
       "      <td>9.000000</td>\n",
       "      <td>35.000000</td>\n",
       "      <td>202.000000</td>\n",
       "      <td>2.000000</td>\n",
       "      <td>4.000000</td>\n",
       "      <td>60.000000</td>\n",
       "    </tr>\n",
       "    <tr>\n",
       "      <th>50%</th>\n",
       "      <td>302.000000</td>\n",
       "      <td>2015.000000</td>\n",
       "      <td>120.000000</td>\n",
       "      <td>74.000000</td>\n",
       "      <td>66.000000</td>\n",
       "      <td>-5.000000</td>\n",
       "      <td>12.000000</td>\n",
       "      <td>52.000000</td>\n",
       "      <td>221.000000</td>\n",
       "      <td>6.000000</td>\n",
       "      <td>5.000000</td>\n",
       "      <td>69.000000</td>\n",
       "    </tr>\n",
       "    <tr>\n",
       "      <th>75%</th>\n",
       "      <td>452.500000</td>\n",
       "      <td>2017.000000</td>\n",
       "      <td>129.000000</td>\n",
       "      <td>82.000000</td>\n",
       "      <td>73.000000</td>\n",
       "      <td>-4.000000</td>\n",
       "      <td>24.000000</td>\n",
       "      <td>69.000000</td>\n",
       "      <td>239.500000</td>\n",
       "      <td>17.000000</td>\n",
       "      <td>9.000000</td>\n",
       "      <td>76.000000</td>\n",
       "    </tr>\n",
       "    <tr>\n",
       "      <th>max</th>\n",
       "      <td>603.000000</td>\n",
       "      <td>2019.000000</td>\n",
       "      <td>206.000000</td>\n",
       "      <td>98.000000</td>\n",
       "      <td>97.000000</td>\n",
       "      <td>-2.000000</td>\n",
       "      <td>74.000000</td>\n",
       "      <td>98.000000</td>\n",
       "      <td>424.000000</td>\n",
       "      <td>99.000000</td>\n",
       "      <td>48.000000</td>\n",
       "      <td>99.000000</td>\n",
       "    </tr>\n",
       "  </tbody>\n",
       "</table>\n",
       "</div>"
      ],
      "text/plain": [
       "       Unnamed: 0         year         bpm        nrgy        dnce  \\\n",
       "count  603.000000   603.000000  603.000000  603.000000  603.000000   \n",
       "mean   302.000000  2014.592040  118.545605   70.504146   64.379768   \n",
       "std    174.215384     2.607057   24.795358   16.310664   13.378718   \n",
       "min      1.000000  2010.000000    0.000000    0.000000    0.000000   \n",
       "25%    151.500000  2013.000000  100.000000   61.000000   57.000000   \n",
       "50%    302.000000  2015.000000  120.000000   74.000000   66.000000   \n",
       "75%    452.500000  2017.000000  129.000000   82.000000   73.000000   \n",
       "max    603.000000  2019.000000  206.000000   98.000000   97.000000   \n",
       "\n",
       "               dB        live         val         dur       acous        spch  \\\n",
       "count  603.000000  603.000000  603.000000  603.000000  603.000000  603.000000   \n",
       "mean    -5.578773   17.774461   52.225539  224.674959   14.326700    8.358209   \n",
       "std      2.798020   13.102543   22.513020   34.130059   20.766165    7.483162   \n",
       "min    -60.000000    0.000000    0.000000  134.000000    0.000000    0.000000   \n",
       "25%     -6.000000    9.000000   35.000000  202.000000    2.000000    4.000000   \n",
       "50%     -5.000000   12.000000   52.000000  221.000000    6.000000    5.000000   \n",
       "75%     -4.000000   24.000000   69.000000  239.500000   17.000000    9.000000   \n",
       "max     -2.000000   74.000000   98.000000  424.000000   99.000000   48.000000   \n",
       "\n",
       "              pop  \n",
       "count  603.000000  \n",
       "mean    66.520730  \n",
       "std     14.517746  \n",
       "min      0.000000  \n",
       "25%     60.000000  \n",
       "50%     69.000000  \n",
       "75%     76.000000  \n",
       "max     99.000000  "
      ]
     },
     "execution_count": 4,
     "metadata": {},
     "output_type": "execute_result"
    }
   ],
   "source": [
    "df.describe()"
   ]
  },
  {
   "cell_type": "markdown",
   "id": "8c13150a",
   "metadata": {},
   "source": [
    "<h3 align=\"center\">Year vs. Valence Score Scatter Plot (Figure 1 Below)</h3> "
   ]
  },
  {
   "cell_type": "code",
   "execution_count": 5,
   "id": "57561463",
   "metadata": {},
   "outputs": [
    {
     "data": {
      "text/plain": [
       "<Axes: xlabel='year', ylabel='val'>"
      ]
     },
     "execution_count": 5,
     "metadata": {},
     "output_type": "execute_result"
    },
    {
     "data": {
      "image/png": "[encoded data removed]",
      "text/plain": [
       "<Figure size 640x480 with 1 Axes>"
      ]
     },
     "metadata": {},
     "output_type": "display_data"
    }
   ],
   "source": [
    "df.plot(kind='scatter',x='year',y='val',color='lightblue')"
   ]
  },
  {
   "cell_type": "markdown",
   "id": "fab5095a",
   "metadata": {},
   "source": [
    "The figure above represents the range of valence for the songs in each year provided in the dataset. As explained in the chart above, the valence of a song is the metric that measures the happiness or mood score. "
   ]
  },
  {
   "cell_type": "markdown",
   "id": "8d859851",
   "metadata": {},
   "source": [
    "<h3 align=\"center\">Average and Standard Deviation of Song Variables for Each Year (Table 2 Below)</h3> "
   ]
  },
  {
   "cell_type": "code",
   "execution_count": 40,
   "id": "68324b90",
   "metadata": {},
   "outputs": [
    {
     "data": {
      "text/html": [
       "<div>\n",
       "<style scoped>\n",
       "    .dataframe tbody tr th:only-of-type {\n",
       "        vertical-align: middle;\n",
       "    }\n",
       "\n",
       "    .dataframe tbody tr th {\n",
       "        vertical-align: top;\n",
       "    }\n",
       "\n",
       "    .dataframe thead th {\n",
       "        text-align: right;\n",
       "    }\n",
       "</style>\n",
       "<table border=\"1\" class=\"dataframe\">\n",
       "  <thead>\n",
       "    <tr style=\"text-align: right;\">\n",
       "      <th></th>\n",
       "      <th>Unnamed: 0</th>\n",
       "      <th>year</th>\n",
       "      <th>bpm</th>\n",
       "      <th>nrgy</th>\n",
       "      <th>dnce</th>\n",
       "      <th>dB</th>\n",
       "      <th>live</th>\n",
       "      <th>val</th>\n",
       "      <th>dur</th>\n",
       "      <th>acous</th>\n",
       "      <th>spch</th>\n",
       "      <th>pop</th>\n",
       "    </tr>\n",
       "  </thead>\n",
       "  <tbody>\n",
       "    <tr>\n",
       "      <th>mean</th>\n",
       "      <td>26.000000</td>\n",
       "      <td>2010.0</td>\n",
       "      <td>122.058824</td>\n",
       "      <td>77.901961</td>\n",
       "      <td>64.529412</td>\n",
       "      <td>-4.901961</td>\n",
       "      <td>21.176471</td>\n",
       "      <td>57.000000</td>\n",
       "      <td>229.803922</td>\n",
       "      <td>11.627451</td>\n",
       "      <td>8.882353</td>\n",
       "      <td>64.254902</td>\n",
       "    </tr>\n",
       "    <tr>\n",
       "      <th>std</th>\n",
       "      <td>14.866069</td>\n",
       "      <td>0.0</td>\n",
       "      <td>25.308032</td>\n",
       "      <td>14.953601</td>\n",
       "      <td>14.412984</td>\n",
       "      <td>1.360219</td>\n",
       "      <td>17.120404</td>\n",
       "      <td>22.001818</td>\n",
       "      <td>33.858541</td>\n",
       "      <td>19.993960</td>\n",
       "      <td>9.322332</td>\n",
       "      <td>13.227007</td>\n",
       "    </tr>\n",
       "  </tbody>\n",
       "</table>\n",
       "</div>"
      ],
      "text/plain": [
       "      Unnamed: 0    year         bpm       nrgy       dnce        dB  \\\n",
       "mean   26.000000  2010.0  122.058824  77.901961  64.529412 -4.901961   \n",
       "std    14.866069     0.0   25.308032  14.953601  14.412984  1.360219   \n",
       "\n",
       "           live        val         dur      acous      spch        pop  \n",
       "mean  21.176471  57.000000  229.803922  11.627451  8.882353  64.254902  \n",
       "std   17.120404  22.001818   33.858541  19.993960  9.322332  13.227007  "
      ]
     },
     "execution_count": 40,
     "metadata": {},
     "output_type": "execute_result"
    }
   ],
   "source": [
    "x = df[df['year'] == 2010]\n",
    "x.describe().loc[['mean', 'std']]"
   ]
  },
  {
   "cell_type": "code",
   "execution_count": 41,
   "id": "a009cf7d",
   "metadata": {},
   "outputs": [
    {
     "data": {
      "text/html": [
       "<div>\n",
       "<style scoped>\n",
       "    .dataframe tbody tr th:only-of-type {\n",
       "        vertical-align: middle;\n",
       "    }\n",
       "\n",
       "    .dataframe tbody tr th {\n",
       "        vertical-align: top;\n",
       "    }\n",
       "\n",
       "    .dataframe thead th {\n",
       "        text-align: right;\n",
       "    }\n",
       "</style>\n",
       "<table border=\"1\" class=\"dataframe\">\n",
       "  <thead>\n",
       "    <tr style=\"text-align: right;\">\n",
       "      <th></th>\n",
       "      <th>Unnamed: 0</th>\n",
       "      <th>year</th>\n",
       "      <th>bpm</th>\n",
       "      <th>nrgy</th>\n",
       "      <th>dnce</th>\n",
       "      <th>dB</th>\n",
       "      <th>live</th>\n",
       "      <th>val</th>\n",
       "      <th>dur</th>\n",
       "      <th>acous</th>\n",
       "      <th>spch</th>\n",
       "      <th>pop</th>\n",
       "    </tr>\n",
       "  </thead>\n",
       "  <tbody>\n",
       "    <tr>\n",
       "      <th>mean</th>\n",
       "      <td>78.000000</td>\n",
       "      <td>2011.0</td>\n",
       "      <td>119.075472</td>\n",
       "      <td>74.886792</td>\n",
       "      <td>63.641509</td>\n",
       "      <td>-5.018868</td>\n",
       "      <td>20.943396</td>\n",
       "      <td>53.698113</td>\n",
       "      <td>242.566038</td>\n",
       "      <td>13.339623</td>\n",
       "      <td>9.660377</td>\n",
       "      <td>61.867925</td>\n",
       "    </tr>\n",
       "    <tr>\n",
       "      <th>std</th>\n",
       "      <td>15.443445</td>\n",
       "      <td>0.0</td>\n",
       "      <td>20.946681</td>\n",
       "      <td>15.548510</td>\n",
       "      <td>11.267882</td>\n",
       "      <td>1.434339</td>\n",
       "      <td>15.083632</td>\n",
       "      <td>20.835053</td>\n",
       "      <td>36.942528</td>\n",
       "      <td>21.341494</td>\n",
       "      <td>9.169228</td>\n",
       "      <td>16.058831</td>\n",
       "    </tr>\n",
       "  </tbody>\n",
       "</table>\n",
       "</div>"
      ],
      "text/plain": [
       "      Unnamed: 0    year         bpm       nrgy       dnce        dB  \\\n",
       "mean   78.000000  2011.0  119.075472  74.886792  63.641509 -5.018868   \n",
       "std    15.443445     0.0   20.946681  15.548510  11.267882  1.434339   \n",
       "\n",
       "           live        val         dur      acous      spch        pop  \n",
       "mean  20.943396  53.698113  242.566038  13.339623  9.660377  61.867925  \n",
       "std   15.083632  20.835053   36.942528  21.341494  9.169228  16.058831  "
      ]
     },
     "execution_count": 41,
     "metadata": {},
     "output_type": "execute_result"
    }
   ],
   "source": [
    "xi = df[df['year'] == 2011]\n",
    "xi.describe().loc[['mean', 'std']]"
   ]
  },
  {
   "cell_type": "code",
   "execution_count": 39,
   "id": "cf0fc1a7",
   "metadata": {},
   "outputs": [
    {
     "data": {
      "text/html": [
       "<div>\n",
       "<style scoped>\n",
       "    .dataframe tbody tr th:only-of-type {\n",
       "        vertical-align: middle;\n",
       "    }\n",
       "\n",
       "    .dataframe tbody tr th {\n",
       "        vertical-align: top;\n",
       "    }\n",
       "\n",
       "    .dataframe thead th {\n",
       "        text-align: right;\n",
       "    }\n",
       "</style>\n",
       "<table border=\"1\" class=\"dataframe\">\n",
       "  <thead>\n",
       "    <tr style=\"text-align: right;\">\n",
       "      <th></th>\n",
       "      <th>Unnamed: 0</th>\n",
       "      <th>year</th>\n",
       "      <th>bpm</th>\n",
       "      <th>nrgy</th>\n",
       "      <th>dnce</th>\n",
       "      <th>dB</th>\n",
       "      <th>live</th>\n",
       "      <th>val</th>\n",
       "      <th>dur</th>\n",
       "      <th>acous</th>\n",
       "      <th>spch</th>\n",
       "      <th>pop</th>\n",
       "    </tr>\n",
       "  </thead>\n",
       "  <tbody>\n",
       "    <tr>\n",
       "      <th>mean</th>\n",
       "      <td>122.000000</td>\n",
       "      <td>2012.0</td>\n",
       "      <td>121.085714</td>\n",
       "      <td>75.485714</td>\n",
       "      <td>65.714286</td>\n",
       "      <td>-4.857143</td>\n",
       "      <td>15.828571</td>\n",
       "      <td>64.171429</td>\n",
       "      <td>224.400000</td>\n",
       "      <td>4.857143</td>\n",
       "      <td>5.80000</td>\n",
       "      <td>67.771429</td>\n",
       "    </tr>\n",
       "    <tr>\n",
       "      <th>std</th>\n",
       "      <td>10.246951</td>\n",
       "      <td>0.0</td>\n",
       "      <td>21.066242</td>\n",
       "      <td>12.134955</td>\n",
       "      <td>9.838614</td>\n",
       "      <td>1.458098</td>\n",
       "      <td>10.427581</td>\n",
       "      <td>19.008490</td>\n",
       "      <td>24.236822</td>\n",
       "      <td>9.953252</td>\n",
       "      <td>2.65463</td>\n",
       "      <td>14.528037</td>\n",
       "    </tr>\n",
       "  </tbody>\n",
       "</table>\n",
       "</div>"
      ],
      "text/plain": [
       "      Unnamed: 0    year         bpm       nrgy       dnce        dB  \\\n",
       "mean  122.000000  2012.0  121.085714  75.485714  65.714286 -4.857143   \n",
       "std    10.246951     0.0   21.066242  12.134955   9.838614  1.458098   \n",
       "\n",
       "           live        val         dur     acous     spch        pop  \n",
       "mean  15.828571  64.171429  224.400000  4.857143  5.80000  67.771429  \n",
       "std   10.427581  19.008490   24.236822  9.953252  2.65463  14.528037  "
      ]
     },
     "execution_count": 39,
     "metadata": {},
     "output_type": "execute_result"
    }
   ],
   "source": [
    "xii = df[df['year'] == 2012]\n",
    "xii.describe().loc[['mean', 'std']]"
   ]
  },
  {
   "cell_type": "code",
   "execution_count": 43,
   "id": "5d6bcfcc",
   "metadata": {},
   "outputs": [
    {
     "data": {
      "text/html": [
       "<div>\n",
       "<style scoped>\n",
       "    .dataframe tbody tr th:only-of-type {\n",
       "        vertical-align: middle;\n",
       "    }\n",
       "\n",
       "    .dataframe tbody tr th {\n",
       "        vertical-align: top;\n",
       "    }\n",
       "\n",
       "    .dataframe thead th {\n",
       "        text-align: right;\n",
       "    }\n",
       "</style>\n",
       "<table border=\"1\" class=\"dataframe\">\n",
       "  <thead>\n",
       "    <tr style=\"text-align: right;\">\n",
       "      <th></th>\n",
       "      <th>Unnamed: 0</th>\n",
       "      <th>year</th>\n",
       "      <th>bpm</th>\n",
       "      <th>nrgy</th>\n",
       "      <th>dnce</th>\n",
       "      <th>dB</th>\n",
       "      <th>live</th>\n",
       "      <th>val</th>\n",
       "      <th>dur</th>\n",
       "      <th>acous</th>\n",
       "      <th>spch</th>\n",
       "      <th>pop</th>\n",
       "    </tr>\n",
       "  </thead>\n",
       "  <tbody>\n",
       "    <tr>\n",
       "      <th>mean</th>\n",
       "      <td>175.000000</td>\n",
       "      <td>2013.0</td>\n",
       "      <td>121.676056</td>\n",
       "      <td>73.873239</td>\n",
       "      <td>62.042254</td>\n",
       "      <td>-5.140845</td>\n",
       "      <td>19.718310</td>\n",
       "      <td>53.183099</td>\n",
       "      <td>234.492958</td>\n",
       "      <td>10.323944</td>\n",
       "      <td>8.309859</td>\n",
       "      <td>63.985915</td>\n",
       "    </tr>\n",
       "    <tr>\n",
       "      <th>std</th>\n",
       "      <td>20.639767</td>\n",
       "      <td>0.0</td>\n",
       "      <td>26.517258</td>\n",
       "      <td>15.396595</td>\n",
       "      <td>11.580077</td>\n",
       "      <td>1.658707</td>\n",
       "      <td>14.007328</td>\n",
       "      <td>21.234951</td>\n",
       "      <td>42.506427</td>\n",
       "      <td>15.660482</td>\n",
       "      <td>7.652435</td>\n",
       "      <td>12.864673</td>\n",
       "    </tr>\n",
       "  </tbody>\n",
       "</table>\n",
       "</div>"
      ],
      "text/plain": [
       "      Unnamed: 0    year         bpm       nrgy       dnce        dB  \\\n",
       "mean  175.000000  2013.0  121.676056  73.873239  62.042254 -5.140845   \n",
       "std    20.639767     0.0   26.517258  15.396595  11.580077  1.658707   \n",
       "\n",
       "           live        val         dur      acous      spch        pop  \n",
       "mean  19.718310  53.183099  234.492958  10.323944  8.309859  63.985915  \n",
       "std   14.007328  21.234951   42.506427  15.660482  7.652435  12.864673  "
      ]
     },
     "execution_count": 43,
     "metadata": {},
     "output_type": "execute_result"
    }
   ],
   "source": [
    "xiii = df[df['year'] == 2013]\n",
    "xiii.describe().loc[['mean', 'std']]"
   ]
  },
  {
   "cell_type": "code",
   "execution_count": 44,
   "id": "5634a964",
   "metadata": {},
   "outputs": [
    {
     "data": {
      "text/html": [
       "<div>\n",
       "<style scoped>\n",
       "    .dataframe tbody tr th:only-of-type {\n",
       "        vertical-align: middle;\n",
       "    }\n",
       "\n",
       "    .dataframe tbody tr th {\n",
       "        vertical-align: top;\n",
       "    }\n",
       "\n",
       "    .dataframe thead th {\n",
       "        text-align: right;\n",
       "    }\n",
       "</style>\n",
       "<table border=\"1\" class=\"dataframe\">\n",
       "  <thead>\n",
       "    <tr style=\"text-align: right;\">\n",
       "      <th></th>\n",
       "      <th>Unnamed: 0</th>\n",
       "      <th>year</th>\n",
       "      <th>bpm</th>\n",
       "      <th>nrgy</th>\n",
       "      <th>dnce</th>\n",
       "      <th>dB</th>\n",
       "      <th>live</th>\n",
       "      <th>val</th>\n",
       "      <th>dur</th>\n",
       "      <th>acous</th>\n",
       "      <th>spch</th>\n",
       "      <th>pop</th>\n",
       "    </tr>\n",
       "  </thead>\n",
       "  <tbody>\n",
       "    <tr>\n",
       "      <th>mean</th>\n",
       "      <td>175.000000</td>\n",
       "      <td>2013.0</td>\n",
       "      <td>121.676056</td>\n",
       "      <td>73.873239</td>\n",
       "      <td>62.042254</td>\n",
       "      <td>-5.140845</td>\n",
       "      <td>19.718310</td>\n",
       "      <td>53.183099</td>\n",
       "      <td>234.492958</td>\n",
       "      <td>10.323944</td>\n",
       "      <td>8.309859</td>\n",
       "      <td>63.985915</td>\n",
       "    </tr>\n",
       "    <tr>\n",
       "      <th>std</th>\n",
       "      <td>20.639767</td>\n",
       "      <td>0.0</td>\n",
       "      <td>26.517258</td>\n",
       "      <td>15.396595</td>\n",
       "      <td>11.580077</td>\n",
       "      <td>1.658707</td>\n",
       "      <td>14.007328</td>\n",
       "      <td>21.234951</td>\n",
       "      <td>42.506427</td>\n",
       "      <td>15.660482</td>\n",
       "      <td>7.652435</td>\n",
       "      <td>12.864673</td>\n",
       "    </tr>\n",
       "  </tbody>\n",
       "</table>\n",
       "</div>"
      ],
      "text/plain": [
       "      Unnamed: 0    year         bpm       nrgy       dnce        dB  \\\n",
       "mean  175.000000  2013.0  121.676056  73.873239  62.042254 -5.140845   \n",
       "std    20.639767     0.0   26.517258  15.396595  11.580077  1.658707   \n",
       "\n",
       "           live        val         dur      acous      spch        pop  \n",
       "mean  19.718310  53.183099  234.492958  10.323944  8.309859  63.985915  \n",
       "std   14.007328  21.234951   42.506427  15.660482  7.652435  12.864673  "
      ]
     },
     "execution_count": 44,
     "metadata": {},
     "output_type": "execute_result"
    }
   ],
   "source": [
    "xiv = df[df['year'] == 2014]\n",
    "xiii.describe().loc[['mean', 'std']]"
   ]
  },
  {
   "cell_type": "code",
   "execution_count": 45,
   "id": "453b8986",
   "metadata": {},
   "outputs": [
    {
     "data": {
      "text/html": [
       "<div>\n",
       "<style scoped>\n",
       "    .dataframe tbody tr th:only-of-type {\n",
       "        vertical-align: middle;\n",
       "    }\n",
       "\n",
       "    .dataframe tbody tr th {\n",
       "        vertical-align: top;\n",
       "    }\n",
       "\n",
       "    .dataframe thead th {\n",
       "        text-align: right;\n",
       "    }\n",
       "</style>\n",
       "<table border=\"1\" class=\"dataframe\">\n",
       "  <thead>\n",
       "    <tr style=\"text-align: right;\">\n",
       "      <th></th>\n",
       "      <th>Unnamed: 0</th>\n",
       "      <th>year</th>\n",
       "      <th>bpm</th>\n",
       "      <th>nrgy</th>\n",
       "      <th>dnce</th>\n",
       "      <th>dB</th>\n",
       "      <th>live</th>\n",
       "      <th>val</th>\n",
       "      <th>dur</th>\n",
       "      <th>acous</th>\n",
       "      <th>spch</th>\n",
       "      <th>pop</th>\n",
       "    </tr>\n",
       "  </thead>\n",
       "  <tbody>\n",
       "    <tr>\n",
       "      <th>mean</th>\n",
       "      <td>316.000000</td>\n",
       "      <td>2015.0</td>\n",
       "      <td>119.768421</td>\n",
       "      <td>70.336842</td>\n",
       "      <td>63.663158</td>\n",
       "      <td>-5.621053</td>\n",
       "      <td>18.305263</td>\n",
       "      <td>52.526316</td>\n",
       "      <td>223.368421</td>\n",
       "      <td>16.600000</td>\n",
       "      <td>7.052632</td>\n",
       "      <td>64.568421</td>\n",
       "    </tr>\n",
       "    <tr>\n",
       "      <th>std</th>\n",
       "      <td>27.568098</td>\n",
       "      <td>0.0</td>\n",
       "      <td>26.789746</td>\n",
       "      <td>15.790255</td>\n",
       "      <td>15.005397</td>\n",
       "      <td>1.638493</td>\n",
       "      <td>13.969628</td>\n",
       "      <td>24.575910</td>\n",
       "      <td>31.089457</td>\n",
       "      <td>23.090663</td>\n",
       "      <td>5.617920</td>\n",
       "      <td>14.352443</td>\n",
       "    </tr>\n",
       "  </tbody>\n",
       "</table>\n",
       "</div>"
      ],
      "text/plain": [
       "      Unnamed: 0    year         bpm       nrgy       dnce        dB  \\\n",
       "mean  316.000000  2015.0  119.768421  70.336842  63.663158 -5.621053   \n",
       "std    27.568098     0.0   26.789746  15.790255  15.005397  1.638493   \n",
       "\n",
       "           live        val         dur      acous      spch        pop  \n",
       "mean  18.305263  52.526316  223.368421  16.600000  7.052632  64.568421  \n",
       "std   13.969628  24.575910   31.089457  23.090663  5.617920  14.352443  "
      ]
     },
     "execution_count": 45,
     "metadata": {},
     "output_type": "execute_result"
    }
   ],
   "source": [
    "xv = df[df['year'] == 2015]\n",
    "xv.describe().loc[['mean', 'std']]"
   ]
  },
  {
   "cell_type": "code",
   "execution_count": 46,
   "id": "bc2d15cf",
   "metadata": {},
   "outputs": [
    {
     "data": {
      "text/html": [
       "<div>\n",
       "<style scoped>\n",
       "    .dataframe tbody tr th:only-of-type {\n",
       "        vertical-align: middle;\n",
       "    }\n",
       "\n",
       "    .dataframe tbody tr th {\n",
       "        vertical-align: top;\n",
       "    }\n",
       "\n",
       "    .dataframe thead th {\n",
       "        text-align: right;\n",
       "    }\n",
       "</style>\n",
       "<table border=\"1\" class=\"dataframe\">\n",
       "  <thead>\n",
       "    <tr style=\"text-align: right;\">\n",
       "      <th></th>\n",
       "      <th>Unnamed: 0</th>\n",
       "      <th>year</th>\n",
       "      <th>bpm</th>\n",
       "      <th>nrgy</th>\n",
       "      <th>dnce</th>\n",
       "      <th>dB</th>\n",
       "      <th>live</th>\n",
       "      <th>val</th>\n",
       "      <th>dur</th>\n",
       "      <th>acous</th>\n",
       "      <th>spch</th>\n",
       "      <th>pop</th>\n",
       "    </tr>\n",
       "  </thead>\n",
       "  <tbody>\n",
       "    <tr>\n",
       "      <th>mean</th>\n",
       "      <td>403.5000</td>\n",
       "      <td>2016.0</td>\n",
       "      <td>114.325000</td>\n",
       "      <td>67.237500</td>\n",
       "      <td>63.325000</td>\n",
       "      <td>-6.712500</td>\n",
       "      <td>17.737500</td>\n",
       "      <td>45.150000</td>\n",
       "      <td>220.225000</td>\n",
       "      <td>15.875000</td>\n",
       "      <td>8.362500</td>\n",
       "      <td>64.162500</td>\n",
       "    </tr>\n",
       "    <tr>\n",
       "      <th>std</th>\n",
       "      <td>23.2379</td>\n",
       "      <td>0.0</td>\n",
       "      <td>24.059933</td>\n",
       "      <td>18.687465</td>\n",
       "      <td>14.102496</td>\n",
       "      <td>6.334942</td>\n",
       "      <td>13.144517</td>\n",
       "      <td>21.101383</td>\n",
       "      <td>32.699234</td>\n",
       "      <td>23.247363</td>\n",
       "      <td>6.531799</td>\n",
       "      <td>16.237512</td>\n",
       "    </tr>\n",
       "  </tbody>\n",
       "</table>\n",
       "</div>"
      ],
      "text/plain": [
       "      Unnamed: 0    year         bpm       nrgy       dnce        dB  \\\n",
       "mean    403.5000  2016.0  114.325000  67.237500  63.325000 -6.712500   \n",
       "std      23.2379     0.0   24.059933  18.687465  14.102496  6.334942   \n",
       "\n",
       "           live        val         dur      acous      spch        pop  \n",
       "mean  17.737500  45.150000  220.225000  15.875000  8.362500  64.162500  \n",
       "std   13.144517  21.101383   32.699234  23.247363  6.531799  16.237512  "
      ]
     },
     "execution_count": 46,
     "metadata": {},
     "output_type": "execute_result"
    }
   ],
   "source": [
    "xvi = df[df['year'] == 2016]\n",
    "xvi.describe().loc[['mean', 'std']]"
   ]
  },
  {
   "cell_type": "code",
   "execution_count": 54,
   "id": "d255c7b9",
   "metadata": {},
   "outputs": [
    {
     "data": {
      "text/html": [
       "<div>\n",
       "<style scoped>\n",
       "    .dataframe tbody tr th:only-of-type {\n",
       "        vertical-align: middle;\n",
       "    }\n",
       "\n",
       "    .dataframe tbody tr th {\n",
       "        vertical-align: top;\n",
       "    }\n",
       "\n",
       "    .dataframe thead th {\n",
       "        text-align: right;\n",
       "    }\n",
       "</style>\n",
       "<table border=\"1\" class=\"dataframe\">\n",
       "  <thead>\n",
       "    <tr style=\"text-align: right;\">\n",
       "      <th></th>\n",
       "      <th>Unnamed: 0</th>\n",
       "      <th>year</th>\n",
       "      <th>bpm</th>\n",
       "      <th>nrgy</th>\n",
       "      <th>dnce</th>\n",
       "      <th>dB</th>\n",
       "      <th>live</th>\n",
       "      <th>val</th>\n",
       "      <th>dur</th>\n",
       "      <th>acous</th>\n",
       "      <th>spch</th>\n",
       "      <th>pop</th>\n",
       "    </tr>\n",
       "  </thead>\n",
       "  <tbody>\n",
       "    <tr>\n",
       "      <th>mean</th>\n",
       "      <td>476.00000</td>\n",
       "      <td>2017.0</td>\n",
       "      <td>116.800000</td>\n",
       "      <td>69.169231</td>\n",
       "      <td>65.369231</td>\n",
       "      <td>-5.615385</td>\n",
       "      <td>15.369231</td>\n",
       "      <td>52.276923</td>\n",
       "      <td>222.169231</td>\n",
       "      <td>16.600000</td>\n",
       "      <td>9.784615</td>\n",
       "      <td>69.015385</td>\n",
       "    </tr>\n",
       "    <tr>\n",
       "      <th>std</th>\n",
       "      <td>18.90767</td>\n",
       "      <td>0.0</td>\n",
       "      <td>27.667784</td>\n",
       "      <td>15.353714</td>\n",
       "      <td>13.759734</td>\n",
       "      <td>1.868257</td>\n",
       "      <td>10.263055</td>\n",
       "      <td>21.697140</td>\n",
       "      <td>28.243677</td>\n",
       "      <td>20.081708</td>\n",
       "      <td>9.148928</td>\n",
       "      <td>10.982219</td>\n",
       "    </tr>\n",
       "  </tbody>\n",
       "</table>\n",
       "</div>"
      ],
      "text/plain": [
       "      Unnamed: 0    year         bpm       nrgy       dnce        dB  \\\n",
       "mean   476.00000  2017.0  116.800000  69.169231  65.369231 -5.615385   \n",
       "std     18.90767     0.0   27.667784  15.353714  13.759734  1.868257   \n",
       "\n",
       "           live        val         dur      acous      spch        pop  \n",
       "mean  15.369231  52.276923  222.169231  16.600000  9.784615  69.015385  \n",
       "std   10.263055  21.697140   28.243677  20.081708  9.148928  10.982219  "
      ]
     },
     "execution_count": 54,
     "metadata": {},
     "output_type": "execute_result"
    }
   ],
   "source": [
    "xvii = df[df['year'] == 2017]\n",
    "xvii.describe().loc[['mean', 'std']]"
   ]
  },
  {
   "cell_type": "code",
   "execution_count": 52,
   "id": "53f220e3",
   "metadata": {},
   "outputs": [
    {
     "data": {
      "text/html": [
       "<div>\n",
       "<style scoped>\n",
       "    .dataframe tbody tr th:only-of-type {\n",
       "        vertical-align: middle;\n",
       "    }\n",
       "\n",
       "    .dataframe tbody tr th {\n",
       "        vertical-align: top;\n",
       "    }\n",
       "\n",
       "    .dataframe thead th {\n",
       "        text-align: right;\n",
       "    }\n",
       "</style>\n",
       "<table border=\"1\" class=\"dataframe\">\n",
       "  <thead>\n",
       "    <tr style=\"text-align: right;\">\n",
       "      <th></th>\n",
       "      <th>Unnamed: 0</th>\n",
       "      <th>year</th>\n",
       "      <th>bpm</th>\n",
       "      <th>nrgy</th>\n",
       "      <th>dnce</th>\n",
       "      <th>dB</th>\n",
       "      <th>live</th>\n",
       "      <th>val</th>\n",
       "      <th>dur</th>\n",
       "      <th>acous</th>\n",
       "      <th>spch</th>\n",
       "      <th>pop</th>\n",
       "    </tr>\n",
       "  </thead>\n",
       "  <tbody>\n",
       "    <tr>\n",
       "      <th>mean</th>\n",
       "      <td>540.500000</td>\n",
       "      <td>2018.0</td>\n",
       "      <td>114.593750</td>\n",
       "      <td>65.468750</td>\n",
       "      <td>67.203125</td>\n",
       "      <td>-5.671875</td>\n",
       "      <td>14.750000</td>\n",
       "      <td>48.765625</td>\n",
       "      <td>217.187500</td>\n",
       "      <td>12.781250</td>\n",
       "      <td>8.625000</td>\n",
       "      <td>72.43750</td>\n",
       "    </tr>\n",
       "    <tr>\n",
       "      <th>std</th>\n",
       "      <td>18.618987</td>\n",
       "      <td>0.0</td>\n",
       "      <td>22.458935</td>\n",
       "      <td>12.989579</td>\n",
       "      <td>13.148939</td>\n",
       "      <td>1.426002</td>\n",
       "      <td>10.222912</td>\n",
       "      <td>21.838325</td>\n",
       "      <td>33.112063</td>\n",
       "      <td>17.942119</td>\n",
       "      <td>6.913295</td>\n",
       "      <td>9.87039</td>\n",
       "    </tr>\n",
       "  </tbody>\n",
       "</table>\n",
       "</div>"
      ],
      "text/plain": [
       "      Unnamed: 0    year         bpm       nrgy       dnce        dB  \\\n",
       "mean  540.500000  2018.0  114.593750  65.468750  67.203125 -5.671875   \n",
       "std    18.618987     0.0   22.458935  12.989579  13.148939  1.426002   \n",
       "\n",
       "           live        val         dur      acous      spch       pop  \n",
       "mean  14.750000  48.765625  217.187500  12.781250  8.625000  72.43750  \n",
       "std   10.222912  21.838325   33.112063  17.942119  6.913295   9.87039  "
      ]
     },
     "execution_count": 52,
     "metadata": {},
     "output_type": "execute_result"
    }
   ],
   "source": [
    "xviii = df[df['year'] == 2018]\n",
    "xviii.describe().loc[['mean', 'std']]"
   ]
  },
  {
   "cell_type": "code",
   "execution_count": 49,
   "id": "09fb2446",
   "metadata": {},
   "outputs": [
    {
     "data": {
      "text/html": [
       "<div>\n",
       "<style scoped>\n",
       "    .dataframe tbody tr th:only-of-type {\n",
       "        vertical-align: middle;\n",
       "    }\n",
       "\n",
       "    .dataframe tbody tr th {\n",
       "        vertical-align: top;\n",
       "    }\n",
       "\n",
       "    .dataframe thead th {\n",
       "        text-align: right;\n",
       "    }\n",
       "</style>\n",
       "<table border=\"1\" class=\"dataframe\">\n",
       "  <thead>\n",
       "    <tr style=\"text-align: right;\">\n",
       "      <th></th>\n",
       "      <th>Unnamed: 0</th>\n",
       "      <th>year</th>\n",
       "      <th>bpm</th>\n",
       "      <th>nrgy</th>\n",
       "      <th>dnce</th>\n",
       "      <th>dB</th>\n",
       "      <th>live</th>\n",
       "      <th>val</th>\n",
       "      <th>dur</th>\n",
       "      <th>acous</th>\n",
       "      <th>spch</th>\n",
       "      <th>pop</th>\n",
       "    </tr>\n",
       "  </thead>\n",
       "  <tbody>\n",
       "    <tr>\n",
       "      <th>mean</th>\n",
       "      <td>588.000000</td>\n",
       "      <td>2019.0</td>\n",
       "      <td>112.451613</td>\n",
       "      <td>64.741935</td>\n",
       "      <td>69.709677</td>\n",
       "      <td>-5.774194</td>\n",
       "      <td>15.161290</td>\n",
       "      <td>50.806452</td>\n",
       "      <td>200.645161</td>\n",
       "      <td>21.741935</td>\n",
       "      <td>8.129032</td>\n",
       "      <td>84.354839</td>\n",
       "    </tr>\n",
       "    <tr>\n",
       "      <th>std</th>\n",
       "      <td>9.092121</td>\n",
       "      <td>0.0</td>\n",
       "      <td>19.438516</td>\n",
       "      <td>17.395340</td>\n",
       "      <td>11.498387</td>\n",
       "      <td>1.802030</td>\n",
       "      <td>14.154144</td>\n",
       "      <td>22.660420</td>\n",
       "      <td>26.700248</td>\n",
       "      <td>22.492914</td>\n",
       "      <td>7.017796</td>\n",
       "      <td>8.292761</td>\n",
       "    </tr>\n",
       "  </tbody>\n",
       "</table>\n",
       "</div>"
      ],
      "text/plain": [
       "      Unnamed: 0    year         bpm       nrgy       dnce        dB  \\\n",
       "mean  588.000000  2019.0  112.451613  64.741935  69.709677 -5.774194   \n",
       "std     9.092121     0.0   19.438516  17.395340  11.498387  1.802030   \n",
       "\n",
       "           live        val         dur      acous      spch        pop  \n",
       "mean  15.161290  50.806452  200.645161  21.741935  8.129032  84.354839  \n",
       "std   14.154144  22.660420   26.700248  22.492914  7.017796   8.292761  "
      ]
     },
     "execution_count": 49,
     "metadata": {},
     "output_type": "execute_result"
    }
   ],
   "source": [
    "xix = df[df['year'] == 2019]\n",
    "xix.describe().loc[['mean', 'std']]"
   ]
  },
  {
   "cell_type": "markdown",
   "id": "fb4903d2",
   "metadata": {},
   "source": [
    "The tables above represent the average and standard deviation scores for all of the songs in the specified years. "
   ]
  },
  {
   "cell_type": "markdown",
   "id": "0926de4a",
   "metadata": {},
   "source": [
    "<h3 align=\"center\">Top 15 Artists with Most Top Spotify Songs vs. Number of Top Songs (Figure 2 Below)</h3> "
   ]
  },
  {
   "cell_type": "code",
   "execution_count": 6,
   "id": "1036390f",
   "metadata": {},
   "outputs": [
    {
     "data": {
      "text/plain": [
       "<Axes: >"
      ]
     },
     "execution_count": 6,
     "metadata": {},
     "output_type": "execute_result"
    },
    {
     "data": {
      "image/png": "[encoded data removed]",
      "text/plain": [
       "<Figure size 640x480 with 1 Axes>"
      ]
     },
     "metadata": {},
     "output_type": "display_data"
    }
   ],
   "source": [
    "c = df['artist'].value_counts().nlargest(15)\n",
    "c.plot(kind='bar',color='pink')"
   ]
  },
  {
   "cell_type": "markdown",
   "id": "36aba621",
   "metadata": {},
   "source": [
    "For the figure above, a narrowed down selection of the artists were required to create a comprehensive bar graph. Additional code was necessary to filter out the artists to include. To do this, I used a command to filter the column of “artist” in the dataset, and to include only the 15 artists that appeared most frequently in the list. The number of times these artists appeared in the column was recorded and plotted on the graph. "
   ]
  },
  {
   "cell_type": "markdown",
   "id": "7920a524",
   "metadata": {},
   "source": [
    "<h3 align=\"center\">Top 15 Genres vs. Number of Top Songs from the Genre (Figure 3 Below)</h3> "
   ]
  },
  {
   "cell_type": "code",
   "execution_count": 125,
   "id": "725bfae2",
   "metadata": {},
   "outputs": [
    {
     "data": {
      "text/plain": [
       "<Axes: >"
      ]
     },
     "execution_count": 125,
     "metadata": {},
     "output_type": "execute_result"
    },
    {
     "data": {
      "image/png": "[encoded data removed]",
      "text/plain": [
       "<Figure size 640x480 with 1 Axes>"
      ]
     },
     "metadata": {},
     "output_type": "display_data"
    }
   ],
   "source": [
    "g = df['top genre'].value_counts().nlargest(15)\n",
    "g.plot(kind='bar',color='mediumturquoise')"
   ]
  },
  {
   "cell_type": "markdown",
   "id": "dd1edc16",
   "metadata": {},
   "source": [
    "Similar to the figure for the most frequently appearing artists, the data in the graph above needed to be filtered in order to maximize the clarity of the results. A similar command was run to distinguish the top 15 most frequently appearing genres, and these were plotted on a bar graph to demonstrate the amount of times a top song from the genre appeared in the dataset."
   ]
  },
  {
   "cell_type": "markdown",
   "id": "b746385c",
   "metadata": {},
   "source": [
    "<h3 align=\"center\">Katy Perry Songs: Year vs. Popularity (Figure 4 Below)</h3> "
   ]
  },
  {
   "cell_type": "code",
   "execution_count": 3,
   "id": "0d332ae6",
   "metadata": {},
   "outputs": [
    {
     "data": {
      "text/plain": [
       "<Axes: xlabel='year', ylabel='val'>"
      ]
     },
     "execution_count": 3,
     "metadata": {},
     "output_type": "execute_result"
    },
    {
     "data": {
      "image/png": "[encoded data removed]",
      "text/plain": [
       "<Figure size 640x480 with 1 Axes>"
      ]
     },
     "metadata": {},
     "output_type": "display_data"
    }
   ],
   "source": [
    "df2 = df[df['artist'].str.contains(\"Katy Perry\")]\n",
    "df2.plot(x='year',y='val',kind='scatter',color='turquoise')"
   ]
  },
  {
   "cell_type": "markdown",
   "id": "8771cdf1",
   "metadata": {},
   "source": [
    "The scatterplot above depicts the valence scores and the year of the song for Katy Perry's 17 songs in the dataset."
   ]
  },
  {
   "cell_type": "markdown",
   "id": "ee9a4368",
   "metadata": {},
   "source": [
    "<h2 align=\"center\">Primary Data Analysis</h2> "
   ]
  },
  {
   "cell_type": "code",
   "execution_count": 5,
   "id": "6e020b76",
   "metadata": {},
   "outputs": [
    {
     "name": "stderr",
     "output_type": "stream",
     "text": [
      "[nltk_data] Downloading package punkt to /home/jovyan/nltk_data...\n",
      "[nltk_data]   Package punkt is already up-to-date!\n",
      "[nltk_data] Downloading package stopwords to /home/jovyan/nltk_data...\n",
      "[nltk_data]   Package stopwords is already up-to-date!\n",
      "[nltk_data] Downloading package vader_lexicon to\n",
      "[nltk_data]     /home/jovyan/nltk_data...\n",
      "[nltk_data]   Package vader_lexicon is already up-to-date!\n",
      "[nltk_data] Downloading package opinion_lexicon to\n",
      "[nltk_data]     /home/jovyan/nltk_data...\n",
      "[nltk_data]   Package opinion_lexicon is already up-to-date!\n"
     ]
    },
    {
     "data": {
      "text/plain": [
       "True"
      ]
     },
     "execution_count": 5,
     "metadata": {},
     "output_type": "execute_result"
    }
   ],
   "source": [
    "import requests\n",
    "import matplotlib.pyplot as plt\n",
    "import nltk\n",
    "\n",
    "from nltk.tokenize import word_tokenize\n",
    "from nltk.sentiment import vader\n",
    "from nltk.corpus import stopwords\n",
    "from nltk.corpus import opinion_lexicon\n",
    "from nltk.stem.porter import PorterStemmer\n",
    "\n",
    "nltk.download('punkt')\n",
    "nltk.download('stopwords')\n",
    "nltk.download('vader_lexicon')\n",
    "nltk.download('opinion_lexicon')"
   ]
  },
  {
   "cell_type": "code",
   "execution_count": 10,
   "id": "0aa63d22",
   "metadata": {},
   "outputs": [],
   "source": [
    "sia = vader.SentimentIntensityAnalyzer()"
   ]
  },
  {
   "cell_type": "code",
   "execution_count": 11,
   "id": "f0a940f6",
   "metadata": {
    "scrolled": true
   },
   "outputs": [],
   "source": [
    "col_list = df[\"title\"].values.tolist()\n",
    "title = ' '.join(col_list)\n",
    "title_lower = title.lower()"
   ]
  },
  {
   "cell_type": "code",
   "execution_count": 12,
   "id": "d55a6635",
   "metadata": {
    "scrolled": true
   },
   "outputs": [
    {
     "name": "stdout",
     "output_type": "stream",
     "text": [
      "['hey', ',', 'soul', 'sister', 'love', 'the', 'way', 'you', 'lie', 'tik', 'tok', 'bad', 'romance', 'just', 'the', 'way', 'you', 'are', 'baby', 'dynamite', 'secrets', 'empire', 'state', 'of', 'mind', '(', 'part', 'ii', ')', 'broken', 'down', 'only', 'girl', '(', 'in', 'the', 'world', ')', 'club', 'ca', \"n't\", 'handle', 'me', '(', 'feat', '.', 'david', 'guetta', ')', 'marry', 'you', 'cooler', 'than', 'me', '-', 'single', 'mix', 'telephone', 'like', 'a', 'g6', 'omg', '(', 'feat', '.', 'will.i.am', ')', 'eenie', 'meenie', 'the', 'time', '(', 'dirty', 'bit', ')', 'alejandro', 'your', 'love', 'is', 'my', 'drug', 'meet', 'me', 'halfway', 'whataya', 'want', 'from', 'me', 'take', 'it', 'off', 'misery', 'all', 'the', 'right', 'moves', 'animal', 'naturally', 'i', 'like', 'it', 'teenage', 'dream', 'california', 'gurls', '3', 'my', 'first', 'kiss', '-', 'feat', '.', 'ke', '$', 'ha', 'blah', 'blah', 'blah', '(', 'feat', '.', '3oh', '!', '3', ')', 'imma', 'be', 'try', 'sleeping', 'with', 'a', 'broken', 'heart', 'sexy', 'bitch', '(', 'feat', '.', 'akon', ')', 'bound', 'to', 'you', '-', 'burlesque', 'original', 'motion', 'picture', 'soundtrack', 'if', 'i', 'had', 'you', 'rock', 'that', 'body', 'dog', 'days', 'are', 'over', 'something', \"'s\", 'got', 'a', 'hold', 'on', 'me', '-', 'burlesque', 'original', 'motion', 'picture', 'soundtrack', 'does', \"n't\", 'mean', 'anything', 'hard', 'loca', 'you', 'lost', 'me', 'not', 'myself', 'tonight', 'written', 'in', 'the', 'stars', '(', 'feat', '.', 'eric', 'turner', ')', 'dj', 'got', 'us', 'fallin', \"'\", 'in', 'love', '(', 'feat', '.', 'pitbull', ')', 'castle', 'walls', '(', 'feat', '.', 'christina', 'aguilera', ')', 'break', 'your', 'heart', 'hello', 'a', 'thousand', 'years', 'someone', 'like', 'you', 'give', 'me', 'everything', 'just', 'the', 'way', 'you', 'are', 'rolling', 'in', 'the', 'deep', 'run', 'the', 'world', '(', 'girls', ')', 'moves', 'like', 'jagger', '-', 'studio', 'recording', 'from', 'the', 'voice', 'performance', 'love', 'on', 'top', 'grenade', 'tonight', 'tonight', 'what', 'the', 'hell', 'born', 'this', 'way', 'monster', 'marry', 'you', 'best', 'thing', 'i', 'never', 'had', 'party', 'rock', 'anthem', 'we', 'r', 'who', 'we', 'r', 'price', 'tag', 'good', 'life', 'just', 'can\\x92t', 'get', 'enough', 'on', 'the', 'floor', 'what', \"'s\", 'my', 'name', '?', 'yeah', '3x', 'without', 'you', '(', 'feat', '.', 'usher', ')', 'sexy', 'and', 'i', 'know', 'it', 'the', 'edge', 'of', 'glory', 'e.t', '.', 'till', 'the', 'world', 'ends', 'i', 'wan', 'na', 'go', 'blow', 'you', 'and', 'i', 'judas', 'tonight', '(', 'i', \"'m\", 'fuckin', \"'\", 'you', ')', 'please', 'do', \"n't\", 'go', 'we', 'found', 'love', 'marry', 'the', 'night', '1+1', 'hold', 'it', 'against', 'me', 'i', \"'m\", 'into', 'you', 'papi', 'cheers', '(', 'drink', 'to', 'that', ')', 's', '&', 'm', 'remix', 'written', 'in', 'the', 'stars', '(', 'feat', '.', 'eric', 'turner', ')', 'jar', 'of', 'hearts', 'castle', 'walls', '(', 'feat', '.', 'christina', 'aguilera', ')', 'turning', 'page', 'super', 'bass', 'raise', 'your', 'glass', 'invading', 'my', 'mind', 'moment', '4', 'life', '-', 'album', 'version', '(', 'edited', ')', 'last', 'friday', 'night', '(', 't.g.i.f', '.', ')', 'firework', 'muny', '-', 'album', 'version', '(', 'edited', ')', 'titanium', '(', 'feat', '.', 'sia', ')', 'locked', 'out', 'of', 'heaven', 'paradise', 'payphone', 'what', 'makes', 'you', 'beautiful', 'i', 'knew', 'you', 'were', 'trouble', '.', 'call', 'me', 'maybe', 'love', 'you', 'like', 'a', 'love', 'song', 'set', 'fire', 'to', 'the', 'rain', 'we', 'are', 'never', 'ever', 'getting', 'back', 'together', 'stronger', '(', 'what', 'does', \"n't\", 'kill', 'you', ')', 'try', 'starships', 'one', 'more', 'night', 'good', 'time', 'glad', 'you', 'came', 'beauty', 'and', 'a', 'beat', 'international', 'love', 'some', 'nights', 'boyfriend', 'part', 'of', 'me', 'domino', 'where', 'have', 'you', 'been', 'wide', 'awake', 'the', 'one', 'that', 'got', 'away', 'dance', 'again', 'turn', 'up', 'the', 'music', 'lights', '-', 'single', 'version', 'we', 'are', 'young', '(', 'feat', '.', 'janelle', 'monáe', ')', 'diamonds', 'do', \"n't\", 'stop', 'the', 'party', '(', 'feat', '.', 'tjr', ')', 'you', 'da', 'one', 'stereo', 'hearts', '(', 'feat', '.', 'adam', 'levine', ')', 'it', 'will', 'rain', 'blow', 'me', '(', 'one', 'last', 'kiss', ')', 'underneath', 'the', 'tree', 'wake', 'me', 'up', 'story', 'of', 'my', 'life', 'just', 'give', 'me', 'a', 'reason', '(', 'feat', '.', 'nate', 'ruess', ')', 'hall', 'of', 'fame', 'roar', 'we', 'ca', \"n't\", 'stop', 'do', \"n't\", 'you', 'worry', 'child', '-', 'radio', 'edit', 'get', 'lucky', '(', 'feat', '.', 'pharrell', 'williams', '&', 'nile', 'rodgers', ')', '-', 'radio', 'edit', 'wrecking', 'ball', 'impossible', 'blurred', 'lines', 'heart', 'attack', 'we', 'are', 'never', 'ever', 'getting', 'back', 'together', 'die', 'young', 'clarity', 'summertime', 'sadness', '(', 'lana', 'del', 'rey', 'vs.', 'cedric', 'gervais', ')', '-', 'cedric', 'gervais', 'remix', 'under', 'control', 'everybody', 'talks', 'hold', 'on', ',', 'we', \"'re\", 'going', 'home', 'best', 'song', 'ever', 'kiss', 'you', 'sweet', 'nothing', '(', 'feat', '.', 'florence', 'welch', ')', 'lose', 'yourself', 'to', 'dance', 'work', 'bitch', 'brave', 'ca', \"n't\", 'hold', 'us', '(', 'feat', '.', 'ray', 'dalton', ')', 'feel', 'this', 'moment', '(', 'feat', '.', 'christina', 'aguilera', ')', 'beneath', 'your', 'beautiful', 'let', 'me', 'love', 'you', '(', 'until', 'you', 'learn', 'to', 'love', 'yourself', ')', 'thrift', 'shop', '(', 'feat', '.', 'wanz', ')', 'if', 'i', 'lose', 'myself', '-', 'alesso', 'vs', 'onerepublic', 'the', 'way', 'suit', '&', 'tie', '#', 'thatpower', 'i', 'love', 'it', '(', 'feat', '.', 'charli', 'xcx', ')', 'play', 'hard', '(', 'feat', '.', 'ne-yo', '&', 'akon', ')', '-', 'new', 'edit', 'daylight', 'love', 'somebody', 'a', 'little', 'party', 'never', 'killed', 'nobody', '(', 'all', 'we', 'got', ')', 'move', 'walks', 'like', 'rihanna', 'rock', 'n', 'roll', 'heartbreaker', 'mirrors', '-', 'radio', 'edit', 'next', 'to', 'me', 'made', 'in', 'the', 'usa', 'clown', 'girl', 'on', 'fire', '(', 'feat', '.', 'nicki', 'minaj', ')', '-', 'inferno', 'version', 'tko', 'come', '&', 'get', 'it', 'live', 'it', 'up', 'we', 'own', 'the', 'night', 'atlas', '-', 'from', '\\x93the', 'hunger', 'games', ':', 'catching', 'fire\\x94', 'soundtrack', 'what', 'about', 'love', 'take', 'back', 'the', 'night', 'applause', 'anything', 'could', 'happen', 'finally', 'found', 'you', 'pom', 'poms', '#', 'beautiful', 'how', 'ya', 'doin', \"'\", '?', '(', 'feat', '.', 'missy', 'elliott', ')', 'crazy', 'kids', '(', 'feat', '.', 'will.i.am', ')', 'ooh', 'la', 'la', '(', 'from', '``', 'the', 'smurfs', '2', \"''\", ')', 'people', 'like', 'us', 'overdose', 'right', 'now', '-', 'dyro', 'radio', 'edit', 'give', 'it', '2', 'u', 'foolish', 'games', 'outta', 'nowhere', '(', 'feat', '.', 'danny', 'mercer', ')', 'freak', 'all', 'of', 'me', 'stay', 'with', 'me', 'summer', 'happy', '-', 'from', '``', 'despicable', 'me', '2', \"''\", 'rude', 'shake', 'it', 'off', 'dark', 'horse', 'hey', 'brother', 'maps', 'treasure', 'let', 'her', 'go', 'problem', 'pompeii', 'team', 'love', 'me', 'again', 'latch', 'adore', 'you', 'love', 'never', 'felt', 'so', 'good', 'burn', 'she', 'looks', 'so', 'perfect', 'fancy', 'talk', 'dirty', '(', 'feat', '.', '2', 'chainz', ')', 'gorilla', 'human', 'young', 'girls', 'wiggle', '(', 'feat', '.', 'snoop', 'dogg', ')', 'love', 'runs', 'out', 'this', 'is', 'how', 'we', 'do', 'mmm', 'yeah', '(', 'feat', '.', 'pitbull', ')', 'a', 'little', 'party', 'never', 'killed', 'nobody', '(', 'all', 'we', 'got', ')', '#', 'selfie', 'partition', 'birthday', 'g.u.y', '.', 'stay', 'the', 'night', '-', 'featuring', 'hayley', 'williams', 'of', 'paramore', 'let', 'it', 'go', '-', 'from', '``', 'frozen', '/', 'single', 'version', 'wings', 'ca', \"n't\", 'remember', 'to', 'forget', 'you', '(', 'feat', '.', 'rihanna', ')', 'shot', 'me', 'down', '(', 'feat', '.', 'skylar', 'grey', ')', '-', 'radio', 'edit', 'say', 'something', 'a', 'sky', 'full', 'of', 'stars', 'come', 'get', 'it', 'bae', 'chandelier', 'xo', 'we', 'are', 'one', '(', 'ole', 'ola', ')', '[', 'the', 'official', '2014', 'fifa', 'world', 'cup', 'song', ']', 'not', 'about', 'angels', 'drunk', 'in', 'love', 'anaconda', 'boom', 'clap', '-', 'from', 'the', 'motion', 'picture', 'das', 'schicksal', 'ist', 'ein', 'mieser', 'verräter', 'la', 'la', 'la', '(', 'brasil', '2014', ')', '(', 'feat', '.', 'carlinhos', 'brown', ')', 'tee', 'shirt', '-', 'soundtrack', 'version', 'words', 'as', 'weapons', 'you', \"'re\", 'mine', '(', 'eternal', ')', 'sheezus', 'cannonball', 'it', \"'s\", 'on', 'again', '-', 'main', 'soundtrack', 'i', 'luh', 'ya', 'papi', 'not', 'a', 'bad', 'thing', 'thinking', 'out', 'loud', 'i', \"'m\", 'not', 'the', 'only', 'one', 'the', 'hills', 'love', 'yourself', 'uptown', 'funk', 'take', 'me', 'to', 'church', 'sugar', 'sorry', 'fourfiveseconds', 'love', 'me', 'like', 'you', 'do', '-', 'from', '``', 'fifty', 'shades', 'of', 'grey', \"''\", 'earned', 'it', '(', 'fifty', 'shades', 'of', 'grey', ')', '-', 'from', 'the', '``', 'fifty', 'shades', 'of', 'grey', \"''\", 'soundtrack', 'what', 'do', 'you', 'mean', '?', 'stitches', 'want', 'to', 'want', 'me', 'my', 'house', 'waves', '-', 'robin', 'schulz', 'radio', 'edit', 'night', 'changes', 'how', 'deep', 'is', 'your', 'love', 'never', 'forget', 'you', 'love', 'me', 'harder', 'animals', 'blame', 'worth', 'it', 'break', 'free', 'do', \"n't\", 'elastic', 'heart', 'rather', 'be', '(', 'feat', '.', 'jess', 'glynne', ')', 'hello', 'dear', 'future', 'husband', '43776', 'the', 'heart', 'wants', 'what', 'it', 'wants', 'hey', 'mama', '(', 'feat', '.', 'nicki', 'minaj', ',', 'bebe', 'rexha', '&', 'afrojack', ')', 'genie', 'in', 'a', 'bottle', 'company', 'sing', 'jealous', '-', 'remix', 'really', 'do', \"n't\", 'care', 'downtown', '(', 'feat', '.', 'melle', 'mel', ',', 'grandmaster', 'caz', ',', 'kool', 'moe', 'dee', '&', 'eric', 'nally', ')', 'only', 'love', 'can', 'hurt', 'like', 'this', 'heartbeat', 'song', 'up', 'trumpets', 'runnin', \"'\", '(', 'lose', 'it', 'all', ')', 'same', 'old', 'love', 'i', 'want', 'you', 'to', 'know', 'lips', 'are', 'movin', 'i', \"'ll\", 'show', 'you', 'here', 'i', 'lived', 'fireball', '(', 'feat', '.', 'john', 'ryan', ')', 'easy', 'love', 'the', 'feeling', 'i', 'really', 'like', 'you', 'bo', '$', '$', 'sugar', 'focus', 'all', 'about', 'that', 'bass', 'on', 'my', 'mind', 'love', 'me', 'like', 'you', 'broken', 'arrows', 'booty', 'what', 'do', 'you', 'mean', '?', '-', 'acoustic', 'mark', 'my', 'words', 'lay', 'it', 'all', 'on', 'me', 'american', 'oxygen', 'bang', 'bang', 'reality', '-', 'radio', 'edit', 'alive', 'sugar', '(', 'feat', '.', 'francesco', 'yates', ')', 'been', 'you', 'prayer', 'in', 'c', '-', 'robin', 'schulz', 'radio', 'edit', 'see', 'you', 'again', '(', 'feat', '.', 'charlie', 'puth', ')', 'heroes', '(', 'we', 'could', 'be', ')', 'feel', 'the', 'light', '-', 'from', 'the', '``', 'home', \"''\", 'soundtrack', 'perfect', 'ghosttown', 'bang', 'my', 'head', '(', 'feat', '.', 'sia', '&', 'fetty', 'wap', ')', 'bloodstream', 'living', 'for', 'love', 'baby', 'do', \"n't\", 'lie', 'do', \"n't\", 'be', 'so', 'hard', 'on', 'yourself', 'steal', 'my', 'girl', 'celebrate', '(', 'from', 'the', 'original', 'motion', 'picture', '``', 'penguins', 'of', 'madagascar', \"''\", ')', 'we', 'are', 'here', 'st', 'jude', 'yesterday', '(', 'feat', '.', 'bebe', 'rexha', ')', 'time', 'of', 'our', 'lives', 'sparks', 'mr.', 'put', 'it', 'down', 'legendary', 'lovers', 'spark', 'the', 'fire', 'run', 'run', 'run', 'let', 'me', 'be', 'your', 'lover', 'dangerous', 'l.a.love', '(', 'la', 'la', ')', 'the', 'hills', 'love', 'yourself', 'cake', 'by', 'the', 'ocean', 'do', \"n't\", 'let', 'me', 'down', 'in', 'the', 'name', 'of', 'love', 'into', 'you', 'this', 'is', 'what', 'you', 'came', 'for', 'million', 'reasons', 'needed', 'me', '7', 'years', 'ca', \"n't\", 'stop', 'the', 'feeling', '!', '(', 'original', 'song', 'from', 'dreamworks', 'animation', \"'s\", '``', 'trolls', \"''\", ')', 'work', 'from', 'home', '(', 'feat', '.', 'ty', 'dolla', '$', 'ign', ')', 'scars', 'to', 'your', 'beautiful', 'like', 'i', \"'m\", 'gon', 'na', 'lose', 'you', '(', 'feat', '.', 'john', 'legend', ')', 'work', 'stitches', 'me', ',', 'myself', '&', 'i', 'i', 'took', 'a', 'pill', 'in', 'ibiza', '-', 'seeb', 'remix', 'dangerous', 'woman', 'starving', 'shout', 'out', 'to', 'my', 'ex', 'electric', 'love', 'confident', 'too', 'good', 'roses', 'cold', 'water', '(', 'feat', '.', 'justin', 'bieber', '&', 'mø', ')', 'me', 'too', 'light', 'it', 'up', '(', 'feat', '.', 'nyla', '&', 'fuse', 'odg', ')', '[', 'remix', ']', 'ai', \"n't\", 'your', 'mama', 'close', 'toothbrush', 'all', 'we', 'know', 'final', 'song', 'company', 'hands', 'to', 'myself', 'all', 'i', 'ask', 'just', 'like', 'fire', '(', 'from', 'the', 'original', 'motion', 'picture', '``', 'alice', 'through', 'the', 'looking', 'glass', \"''\", ')', 'no', 'kill', 'em', 'with', 'kindness', 'cool', 'girl', 'runnin', \"'\", '(', 'lose', 'it', 'all', ')', 'here', 'perfect', 'illusion', 'pillowtalk', 'out', 'of', 'the', 'woods', 'rise', 'wherever', 'i', 'go', 'body', 'say', 'do', \"n't\", 'be', 'a', 'fool', 'like', 'i', 'would', 'cheap', 'thrills', 'i', 'got', 'you', 'run', 'away', 'with', 'me', 'cruel', '(', 'feat', '.', 'zayn', ')', 'send', 'my', 'love', '(', 'to', 'your', 'new', 'lover', ')', 'wtf', '(', 'where', 'they', 'from', ')', 'desire', 'when', 'we', 'were', 'young', 'i', 'know', 'what', 'you', 'did', 'last', 'summer', 'wish', 'that', 'you', 'were', 'here', '-', 'from', '\\x93miss', 'peregrine\\x92s', 'home', 'for', 'peculiar', 'children\\x94', 'original', 'motion', 'picture', 'hurts', 'change', 'make', 'me', '...', '(', 'feat', '.', 'g-eazy', ')', 'keeping', 'your', 'head', 'up', 'true', 'colors', 'make', 'me', 'like', 'you', 'champagne', 'problems', 'blown', 'start', 'pep', 'rally', 'higher', 'invitation', 'one', 'call', 'away', '(', 'feat', '.', 'tyga', ')', '-', 'remix', 'beautiful', 'birds', '(', 'feat', '.', 'birdy', ')', 'little', 'lies', 'do', 'you', 'wan', 'na', 'come', 'over', '?', 'burnitup', '!', 'picky', '-', 'remix', 'behind', 'your', 'back', 'million', 'years', 'ago', 'shape', 'of', 'you', 'closer', 'starboy', 'treat', 'you', 'better', 'that', \"'s\", 'what', 'i', 'like', 'let', 'me', 'love', 'you', 'i', 'feel', 'it', 'coming', 'mercy', 'side', 'to', 'side', 'stay', 'it', 'ai', \"n't\", 'me', '(', 'with', 'selena', 'gomez', ')', 'malibu', 'something', 'just', 'like', 'this', 'rockabye', '(', 'feat', '.', 'sean', 'paul', '&', 'anne-marie', ')', 'i', 'don\\x92t', 'wan', 'na', 'live', 'forever', '(', 'fifty', 'shades', 'darker', ')', 'my', 'way', 'i', \"'m\", 'the', 'one', '(', 'feat', '.', 'justin', 'bieber', ',', 'quavo', ',', 'chance', 'the', 'rapper', '&', 'lil', 'wayne', ')', 'praying', 'despacito', '-', 'remix', 'the', 'greatest', 'there', 'for', 'you', 'paris', 'crying', 'in', 'the', 'club', 'mama', 'slide', '(', 'feat', '.', 'frank', 'ocean', '&', 'migos', ')', 'swish', 'swish', 'chained', 'to', 'the', 'rhythm', 'cold', '(', 'feat', '.', 'future', ')', 'love', 'reggaetón', 'lento', '(', 'remix', ')', 'all', 'i', 'ask', 'first', 'time', 'the', 'cure', 'how', 'far', 'i', \"'ll\", 'go', '-', 'from', '``', 'moana', \"''\", 'bodak', 'yellow', 'rich', 'love', '(', 'with', 'seeb', ')', 'tired', 'came', 'here', 'for', 'love', '24k', 'magic', 'strip', 'that', 'down', '(', 'feat', '.', 'quavo', ')', 'cut', 'to', 'the', 'feeling', 'ok', '-', 'spotify', 'version', 'bon', 'appétit', 'summer', 'bummer', '(', 'feat', '.', 'a', '$', 'ap', 'rocky', '&', 'playboi', 'carti', ')', 'get', 'low', '(', 'with', 'liam', 'payne', ')', 'kissing', 'strangers', 'slow', 'hands', 'younger', 'now', 'body', 'moves', 'reality', '(', 'feat', '.', 'janieck', 'devy', ')', '-', 'radio', 'edit', 'angel', 'touch', '(', 'feat', '.', 'kid', 'ink', ')', 'we', 'do', \"n't\", 'talk', 'anymore', '-', 'droeloe', 'remix', 'love', 'incredible', '(', 'feat', '.', 'camila', 'cabello', ')', 'no', 'vacancy', '(', 'with', 'sebastián', 'yatra', ')', 'rich', 'boy', 'lust', 'for', 'life', '(', 'with', 'the', 'weeknd', ')', 'greenlight', '(', 'feat', '.', 'flo', 'rida', '&', 'lunchmoney', 'lewis', ')', 'influence', 'remember', 'i', 'told', 'you', 'messin', \"'\", 'around', 'water', 'under', 'the', 'bridge', 'free', 'me', 'kissing', 'strangers', '-', 'remix', 'a', 'l', 'i', 'e', 'n', 's', 'one', 'kiss', '(', 'with', 'dua', 'lipa', ')', 'havana', '(', 'feat', '.', 'young', 'thug', ')', 'i', 'like', 'it', 'new', 'rules', 'there', \"'s\", 'nothing', 'holdin', \"'\", 'me', 'back', 'no', 'tears', 'left', 'to', 'cry', 'idgaf', 'in', 'my', 'blood', 'wolves', 'dusk', 'till', 'dawn', '-', 'radio', 'edit', 'attention', 'electricity', '(', 'with', 'dua', 'lipa', ')', 'love', 'on', 'the', 'brain', 'let', 'me', 'go', '(', 'with', 'alesso', ',', 'florida', 'georgia', 'line', '&', 'watt', ')', 'silence', 'sorry', 'not', 'sorry', 'shallow', '-', 'radio', 'edit', 'these', 'days', 'what', 'lovers', 'do', '(', 'feat', '.', 'sza', ')', 'finesse', '-', 'remix', ';', 'feat', '.', 'cardi', 'b', 'perfect', 'duet', '(', 'ed', 'sheeran', '&', 'beyoncé', ')', 'bad', 'at', 'love', 'him', '&', 'i', '(', 'with', 'halsey', ')', 'friends', '(', 'with', 'bloodpop®', ')', 'wild', 'thoughts', '(', 'feat', '.', 'rihanna', '&', 'bryson', 'tiller', ')', 'my', 'my', 'my', '!', 'capital', 'letters', 'sick', 'boy', 'tequila', 'look', 'what', 'you', 'made', 'me', 'do', 'youth', '(', 'feat', '.', 'khalid', ')', 'bad', 'liar', 'anywhere', 'say', 'something', 'chun-li', 'sign', 'of', 'the', 'times', 'familiar', 'let', 'me', 'supernova', 'nervous', 'first', 'time', 'end', 'game', 'mi', 'gente', '(', 'feat', '.', 'beyoncé', ')', 'lemon', 'for', 'you', '(', 'with', 'rita', 'ora', ')', 'want', 'to', 'what', 'i', 'need', '(', 'feat', '.', 'kehlani', ')', 'wait', 'what', 'about', 'us', 'kissing', 'strangers', '2u', '(', 'feat', '.', 'justin', 'bieber', ')', 'walk', 'on', 'water', '(', 'feat', '.', 'beyoncé', ')', 'this', 'town', 'girls', '(', 'feat', '.', 'cardi', 'b', ',', 'bebe', 'rexha', '&', 'charli', 'xcx', ')', 'move', 'to', 'miami', 'miss', 'you', '(', 'with', 'major', 'lazer', '&', 'tory', 'lanez', ')', 'filthy', 'never', 'be', 'the', 'same', '-', 'radio', 'edit', 'ferrari', 'supplies', 'boom', 'boom', '...', 'ready', 'for', 'it', '?', '-', 'bloodpop®', 'remix', 'drip', '(', 'feat', '.', 'migos', ')', 'tell', 'me', 'you', 'love', 'me', '-', 'notd', 'remix', 'memories', 'lose', 'you', 'to', 'love', 'me', 'someone', 'you', 'loved', 'señorita', 'how', 'do', 'you', 'sleep', '?', 'south', 'of', 'the', 'border', '(', 'feat', '.', 'camila', 'cabello', '&', 'cardi', 'b', ')', 'trampoline', '(', 'with', 'zayn', ')', 'happier', 'truth', 'hurts', 'good', 'as', 'hell', '(', 'feat', '.', 'ariana', 'grande', ')', '-', 'remix', 'higher', 'love', 'only', 'human', 'beautiful', 'people', '(', 'feat', '.', 'khalid', ')', 'sucker', 'do', \"n't\", 'call', 'me', 'up', 'i', 'do', \"n't\", 'care', '(', 'with', 'justin', 'bieber', ')', 'talk', '(', 'feat', '.', 'disclosure', ')', 'giant', '(', 'with', \"rag'n'bone\", 'man', ')', 'takeaway', 'all', 'around', 'the', 'world', '(', 'la', 'la', 'la', ')', 'girls', 'like', 'you', '(', 'feat', '.', 'cardi', 'b', ')', 'call', 'you', 'mine', 'no', 'guidance', '(', 'feat', '.', 'drake', ')', 'antisocial', '(', 'with', 'travis', 'scott', ')', 'taki', 'taki', '(', 'feat', '.', 'selena', 'gomez', ',', 'ozuna', '&', 'cardi', 'b', ')', 'con', 'calma', '-', 'remix', 'find', 'u', 'again', '(', 'feat', '.', 'camila', 'cabello', ')', 'cross', 'me', '(', 'feat', '.', 'chance', 'the', 'rapper', '&', 'pnb', 'rock', ')', 'no', 'brainer', '(', 'feat', '.', 'justin', 'bieber', ',', 'chance', 'the', 'rapper', '&', 'quavo', ')', 'nothing', 'breaks', 'like', 'a', 'heart', '(', 'feat', '.', 'miley', 'cyrus', ')', 'kills', 'you', 'slowly']\n"
     ]
    }
   ],
   "source": [
    "from nltk.tokenize import word_tokenize, sent_tokenize\n",
    "def tokenize(string):\n",
    "  sent = sent_tokenize(title_lower)\n",
    "  words = []\n",
    "  for s in sent:\n",
    "      for w in word_tokenize(s):\n",
    "          words.append(w)\n",
    "  return words\n",
    "\n",
    "words = tokenize(title_lower)\n",
    "print(words)"
   ]
  },
  {
   "cell_type": "code",
   "execution_count": 13,
   "id": "e2b89c96",
   "metadata": {
    "scrolled": true
   },
   "outputs": [
    {
     "name": "stdout",
     "output_type": "stream",
     "text": [
      "['bad', 'broken', 'dirty', 'misery', 'blah', 'blah', 'blah', 'broken', 'bitch', 'hard', 'lost', 'hell', 'trouble', 'fire', 'kill', 'stop', 'stop', 'worry', 'attack', 'die', 'sadness', 'lose', 'bitch', 'lose', 'hard', 'killed', 'heartbreaker', 'fire', 'hunger', 'crazy', 'foolish', 'freak', 'rude', 'shake', 'problem', 'dirty', 'killed', 'forget', 'drunk', 'weapons', 'bad', 'sorry', 'forget', 'blame', 'jealous', 'hurt', 'lose', 'broken', 'hard', 'steal', 'fire', 'dangerous', 'stop', 'lose', 'dangerous', 'starving', 'fire', 'no', 'kill', 'lose', 'fool', 'cruel', 'wtf', 'hurts', 'problems', 'lies', 'crying', 'tired', 'cut', 'bummer', 'low', 'no', 'no', 'tears', 'cry', 'sorry', 'sorry', 'bad', 'sick', 'bad', 'liar', 'nervous', 'miss', 'lose', 'hurts', 'hell', 'sucker', 'no', 'no', 'kills']\n",
      "['love', 'romance', 'dynamite', 'like', 'love', 'want', 'like', 'dream', 'kiss', 'ha', 'sexy', 'original', 'original', 'love', 'like', 'like', 'love', 'top', 'best', 'party', 'good', 'yeah', 'sexy', 'glory', 'please', 'love', 'cheers', 'super', 'heaven', 'paradise', 'beautiful', 'love', 'like', 'love', 'stronger', 'good', 'glad', 'beauty', 'love', 'party', 'kiss', 'fame', 'lucky', 'clarity', 'best', 'kiss', 'sweet', 'brave', 'beautiful', 'love', 'love', 'love', 'play', 'love', 'party', 'like', 'love', 'applause', 'beautiful', 'like', 'happy', 'treasure', 'love', 'adore', 'love', 'good', 'perfect', 'love', 'yeah', 'party', 'grey', 'love', 'love', 'love', 'like', 'grey', 'grey', 'grey', 'want', 'want', 'love', 'love', 'worth', 'free', 'dear', 'care', 'love', 'like', 'love', 'want', 'easy', 'love', 'feeling', 'like', 'love', 'like', 'alive', 'heroes', 'perfect', 'love', 'celebrate', 'original', 'lovers', 'spark', 'lover', 'love', 'love', 'feeling', 'original', 'ty', 'beautiful', 'like', 'love', 'confident', 'good', 'like', 'original', 'kindness', 'cool', 'perfect', 'like', 'thrills', 'love', 'lover', 'desire', 'wish', 'peculiar', 'original', 'true', 'like', 'champagne', 'beautiful', 'treat', 'better', 'like', 'love', 'mercy', 'like', 'chance', 'praying', 'greatest', 'love', 'rich', 'love', 'love', 'feeling', 'ok', 'kissing', 'love', 'rich', 'free', 'kissing', 'kiss', 'like', 'love', 'lovers', 'perfect', 'love', 'friends', 'want', 'kissing', 'ready', 'love', 'love', 'loved', 'happier', 'truth', 'good', 'love', 'beautiful', 'care', 'like', 'chance', 'chance', 'like']\n"
     ]
    }
   ],
   "source": [
    "def score_words(words):\n",
    "  positive = []\n",
    "  negative = []\n",
    "  for i in words:\n",
    "    scores = sia.polarity_scores(i)\n",
    "    if scores[\"compound\"] > 0:\n",
    "      positive.append(i)\n",
    "    elif scores[\"compound\"] < 0:\n",
    "      negative.append(i)\n",
    "  return positive, negative\n",
    "\n",
    "positive, negative = score_words(words)\n",
    "print(negative)\n",
    "print(positive)"
   ]
  },
  {
   "cell_type": "markdown",
   "id": "643c0a77",
   "metadata": {},
   "source": [
    "<h3 align=\"center\">Frequency of Positive Words in Top Song Titles (Figure 5 Below)</h3> "
   ]
  },
  {
   "cell_type": "code",
   "execution_count": 12,
   "id": "9442b52c",
   "metadata": {
    "scrolled": false
   },
   "outputs": [
    {
     "data": {
      "image/png": "[encoded data removed]",
      "text/plain": [
       "<Figure size 640x480 with 1 Axes>"
      ]
     },
     "metadata": {},
     "output_type": "display_data"
    }
   ],
   "source": [
    "most_positive = nltk.FreqDist(positive).most_common(15)\n",
    "plt.barh([x[0] for x in most_positive],[x[1] for x in most_positive], color = \"lightsteelblue\")\n",
    "plt.show()"
   ]
  },
  {
   "cell_type": "markdown",
   "id": "64fc10eb",
   "metadata": {},
   "source": [
    "<h3 align=\"center\">Frequency of Negative Words in Top Song Titles (Figure 6 Below)</h3> "
   ]
  },
  {
   "cell_type": "code",
   "execution_count": 164,
   "id": "d09e7dc2",
   "metadata": {},
   "outputs": [
    {
     "data": {
      "image/png": "[encoded data removed]",
      "text/plain": [
       "<Figure size 640x480 with 1 Axes>"
      ]
     },
     "metadata": {},
     "output_type": "display_data"
    }
   ],
   "source": [
    "most_negative = nltk.FreqDist(negative).most_common(15)\n",
    "plt.barh([x[0] for x in most_negative],[x[1] for x in most_negative], color = \"maroon\")\n",
    "plt.show()"
   ]
  },
  {
   "cell_type": "markdown",
   "id": "f8cad97c",
   "metadata": {},
   "source": [
    "The above data analysis and visualizations can determine what variety of words are frequently used for the titles of popular songs. First, I turned all of the song titles in the “title” column into a list, then into a string. The string of titles was then tokenized into a list of words that could be analyzed using vader. The positive and negative words were sorted into their own lists that were then used to create plots of the frequency of the words in song titles. "
   ]
  },
  {
   "cell_type": "markdown",
   "id": "0ab3e5ad",
   "metadata": {},
   "source": [
    "## Data Results"
   ]
  },
  {
   "cell_type": "markdown",
   "id": "56216d24",
   "metadata": {},
   "source": [
    "The overall result of the data analysis is that there are a few patterns that comprise the top songs between 2010 to 2019. As seen in Table 1, both energy and dance scores were high on average. Each year featured a wide variety of valence scores for all of the top songs. As seen from Figure 1, the range of valence scores fluctuated throughout the years, with 2012 having the highest overall valence scores. Table 2 shows an overview of the averages for all of the numerical variables for each year in the dataset. One of the obvious outliers in this data is the fact that 2019 has the highest average popularity score compared to the other years. All of the other values maintained fairly consistent throughout the years. The most popular artists were Katy Perry, with 17 songs on Spotify’s top songs list, and Justin Bieber, with 16 top tracks (Figure 2). Additionally, the most popular genre for all of the songs was dance pop (Figure 3). Almost half, specifically 300 out of 603, of the top tracks were labeled as dance pop. Generally, the songs in the dataset had high energy scores that corresponded with relatively high popularity scores. Figure 4 depicts the distribution of valence scores for each year for Katy Perry’s top 17 songs. There are no clear outliers or trends, which indicates that songs with positive and negative valence can become popular, and that artists make a variety of types of songs.\n",
    "\n",
    "With respect to the primary analysis about song titles for the top Spotify songs, positive words generally appear more frequently than negative words. Negative words appear far less often in the \"title\" column, as demonstrated by Figure 6. Love appears around 40 times in the titles of the most popular tracks, which indicates that it is a commonly used word in song titles (Figure 5)."
   ]
  },
  {
   "cell_type": "markdown",
   "id": "f26ec472",
   "metadata": {},
   "source": [
    "## Discussion"
   ]
  },
  {
   "cell_type": "markdown",
   "id": "259ba5eb",
   "metadata": {},
   "source": [
    "The findings from the song title analysis can be significant in addressing the research question of which types songs were popular in the 2010's. While the connotation of love within the context of the title cannot be determined solely from this graph, the use of the word alone is enough to hint towards either a romantic or breakup type of song. Regardless of the other variables involved in the song, the appeal of love related songs has proved to be a consistent factor for the top tracks. The discovery that **love** is the most frequently appearing word in the list of top songs can be explained by the fact that love songs in general are known to be popular (Betkowski, 2016). Because love is such a strong and common emotion, conveying it through songs can relate to a wide population of people. Music has been discovered to be able to reach the brain, which may explain why people feel strongly about love songs and why these songs continue to top charts. Understanding these statistics about love-related songs can help to predict future trends in songs, which can be helpful to artists and record labels that are trying to release popular music.\n",
    "\n",
    "Additionally, the majority of the top Spotify songs were categorized into the **dance pop** genre. This result also contributes to understanding the research question, because it shows that generally there is a trend in genres that comprise the popular songs list. While there is no clear correlation between song popularity and energy score or dance score, the majority of the songs have relatively high scores for both categories. These high scores indicate that dance and energy scores are relevant for the top Spotify songs, because the overall averages for both are relatively high. Dance pop songs may not always be relatable and sentimental, like the love songs mentioned above, but they do create fun tracks that are popular on the radio. The familiarity and nostalgia from past music is also what makes this genre so popular, hence the nickname, “pop” music. \n",
    "\n",
    "Overall, popular songs generally have high energy and dance scores, as seen through the visualizations and tables from this data analysis project. The most frequently appearing word in popular song titles is “love”, which can be connected to the appeal and relatability of love-related songs. The prominence of the “dance pop” genre in the Spotify top songs list can also be reflective of the societal nature to listen to what is trending. Although there are approximately 218 genres that comprise the top Spotify songs in this dataset, half of the songs fall within the “dance pop” category. The everlasting popularity of pop songs can hint at a societal and cultural bias towards media that is relatable and familiar. The increase in average popularity scores for songs between 2010 and 2019 can also contribute to a larger picture of an overall increase in music streaming and technological advancements in music. Because the score represents the relative popularity of the songs compared to the others, the greater average popularity of 2019 songs may mean that the consumption and streaming of songs has also increased since 2010. While media and music continue to progress, some features of songs have persisted throughout time. The consistency of some music features and scores throughout the ten year span of this analysis can indicate a longevity of music trends, and help musicians to predict combinations for future top hits.\n"
   ]
  },
  {
   "cell_type": "markdown",
   "id": "60bcea9e",
   "metadata": {},
   "source": [
    "## Sources"
   ]
  },
  {
   "cell_type": "markdown",
   "id": "a9ded4e1",
   "metadata": {},
   "source": [
    "Betkowski, B. (2016, February 10). Why we love love songs. Folio. https://www.ualberta.ca/folio/2016/02/why-we-love-love-songs.html \n",
    "\n",
    "Suttie, J. S. J. (n.d.). Why we love music. Greater Good. https://greatergood.berkeley.edu/article/item/why_we_love_music "
   ]
  }
 ],
 "metadata": {
  "kernelspec": {
   "display_name": "Python 3 (ipykernel)",
   "language": "python",
   "name": "python3"
  },
  "language_info": {
   "codemirror_mode": {
    "name": "ipython",
    "version": 3
   },
   "file_extension": ".py",
   "mimetype": "text/x-python",
   "name": "python",
   "nbconvert_exporter": "python",
   "pygments_lexer": "ipython3",
   "version": "3.10.11"
  }
 },
 "nbformat": 4,
 "nbformat_minor": 5
}
